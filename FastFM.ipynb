{
  "cells": [
    {
      "cell_type": "markdown",
      "metadata": {
        "id": "EQkblN6qWQgM"
      },
      "source": [
        "# **Установка пакета**"
      ]
    },
    {
      "cell_type": "code",
      "execution_count": null,
      "metadata": {
        "colab": {
          "base_uri": "https://localhost:8080/"
        },
        "id": "hYtMf8RFwX2l",
        "outputId": "224d42fd-4cbc-4cdd-baaf-15cb97f93e05"
      },
      "outputs": [
        {
          "output_type": "stream",
          "name": "stdout",
          "text": [
            "Reading package lists... Done\n",
            "Building dependency tree... Done\n",
            "Reading state information... Done\n",
            "Package python-dev is not available, but is referred to by another package.\n",
            "This may mean that the package is missing, has been obsoleted, or\n",
            "is only available from another source\n",
            "However the following packages replace it:\n",
            "  python2-dev python2 python-dev-is-python3\n",
            "\n",
            "E: Package 'python-dev' has no installation candidate\n",
            "fatal: destination path 'fastFM' already exists and is not an empty directory.\n",
            "/content/fastFM/fastFM\n",
            "\u001b[31mERROR: Could not open requirements file: [Errno 2] No such file or directory: './requirements.txt'\u001b[0m\u001b[31m\n",
            "\u001b[0mmake: *** No targets specified and no makefile found.  Stop.\n",
            "make: *** No targets specified and no makefile found.  Stop.\n",
            "\u001b[31mERROR: Directory '.' is not installable. Neither 'setup.py' nor 'pyproject.toml' found.\u001b[0m\u001b[31m\n",
            "\u001b[0m"
          ]
        }
      ],
      "source": [
        "# Install cblas and python-dev header (Linux only).\n",
        "# - cblas can be installed with libatlas-base-dev or libopenblas-dev (Ubuntu)\n",
        "! sudo apt-get install python-dev libopenblas-dev\n",
        "\n",
        "# Clone the repo including submodules (or clone + `git submodule update --init --recursive`)\n",
        "!git clone --recursive https://github.com/ibayer/fastFM.git\n",
        "\n",
        "# Enter the root directory\n",
        "%cd fastFM\n",
        "\n",
        "# Install Python dependencies (Cython>=0.22, numpy, pandas, scipy, scikit-learn)\n",
        "! pip install -r ./requirements.txt\n",
        "\n",
        "# Compile the C extension.\n",
        "! make                      # build with default python version (python)\n",
        "! PYTHON=python3 make       # build with custom python version (python3)\n",
        "\n",
        "# Install fastFM\n",
        "! pip install ."
      ]
    },
    {
      "cell_type": "markdown",
      "metadata": {
        "id": "7-Z5U-3Com4c"
      },
      "source": [
        "# **Pima Indians Diabetes Dataset**\n",
        "\n"
      ]
    },
    {
      "cell_type": "code",
      "execution_count": null,
      "metadata": {
        "colab": {
          "base_uri": "https://localhost:8080/"
        },
        "id": "Tr9CBEXzERSJ",
        "outputId": "2320c8c8-fa71-47d0-fcad-1fe5f642bde9"
      },
      "outputs": [
        {
          "output_type": "stream",
          "name": "stdout",
          "text": [
            "Accuracy: 0.3489583333333333\n",
            "AUC-ROC: 0.5\n"
          ]
        }
      ],
      "source": [
        "import numpy as np\n",
        "import pandas as pd\n",
        "from fastFM import sgd\n",
        "from sklearn.model_selection import train_test_split\n",
        "import scipy\n",
        "from sklearn.metrics import accuracy_score, roc_auc_score\n",
        "\n",
        "df = pd.read_csv(\"https://raw.githubusercontent.com/jbrownlee/Datasets/master/pima-indians-diabetes.csv\", header=None)\n",
        "\n",
        "X = df[df.columns[0:8]]\n",
        "y = df[df.columns[8]]\n",
        "\n",
        "y = y.to_numpy()\n",
        "y[y==0] = -1\n",
        "\n",
        "X = scipy.sparse.coo_matrix(X)\n",
        "X_train, X_test, y_train, y_test = train_test_split(X, y)\n",
        "y_train = y_train.astype(np.float64)\n",
        "\n",
        "fm = sgd.FMClassification(n_iter=100, init_stdev=1, l2_reg_w=0.001,\n",
        "                          l2_reg_V=0.001, rank=3, step_size=0.001)\n",
        "fm.fit(X_train, y_train)\n",
        "y_pred = fm.predict(X_test)\n",
        "y_pred_proba = fm.predict_proba(X_test)\n",
        "\n",
        "acc = accuracy_score(y_test, y_pred)\n",
        "auc_roc = roc_auc_score(y_test, y_pred_proba)\n",
        "print(\"Accuracy:\", acc)\n",
        "print(\"AUC-ROC:\", auc_roc)\n"
      ]
    },
    {
      "cell_type": "markdown",
      "metadata": {
        "id": "sy3zzPvfOUhq"
      },
      "source": [
        "# **Sonar Dataset**"
      ]
    },
    {
      "cell_type": "code",
      "execution_count": null,
      "metadata": {
        "colab": {
          "base_uri": "https://localhost:8080/"
        },
        "id": "dX-ZKnvHPiWf",
        "outputId": "f7acf277-6442-4078-bf53-d86f6b22ea8a"
      },
      "outputs": [
        {
          "output_type": "stream",
          "name": "stdout",
          "text": [
            "Accuracy: 0.6153846153846154\n",
            "AUC-ROC: 0.5712143928035982\n"
          ]
        }
      ],
      "source": [
        "import numpy as np\n",
        "import pandas as pd\n",
        "from fastFM import sgd\n",
        "from sklearn.model_selection import train_test_split\n",
        "import scipy\n",
        "from sklearn.metrics import accuracy_score, roc_auc_score\n",
        "\n",
        "data = pd.read_csv(\"https://archive.ics.uci.edu/ml/machine-learning-databases/undocumented/connectionist-bench/sonar/sonar.all-data\", header=None)\n",
        "\n",
        "X = data.iloc[:, :60].values\n",
        "y = (data.iloc[:, 60] == 'R').astype(np.float64).values\n",
        "y[y == 0] = -1\n",
        "\n",
        "X = scipy.sparse.coo_matrix(X)\n",
        "\n",
        "X_train, X_test, y_train, y_test = train_test_split(X, y)\n",
        "\n",
        "fm = sgd.FMClassification(n_iter=100, init_stdev=1, l2_reg_w=0.01,\n",
        "                          l2_reg_V=0.01, rank=2, step_size=0.01)\n",
        "\n",
        "\n",
        "fm.fit(X_train, y_train)\n",
        "\n",
        "y_pred = fm.predict(X_test)\n",
        "y_pred_proba = fm.predict_proba(X_test)\n",
        "\n",
        "acc = accuracy_score(y_test, y_pred)\n",
        "auc_roc = roc_auc_score(y_test, y_pred_proba)\n",
        "\n",
        "print(\"Accuracy:\", acc)\n",
        "print(\"AUC-ROC:\", auc_roc)\n"
      ]
    },
    {
      "cell_type": "markdown",
      "metadata": {
        "id": "3N94khGLSFep"
      },
      "source": [
        "# **Australian Credit Approval DataSet**"
      ]
    },
    {
      "cell_type": "code",
      "execution_count": null,
      "metadata": {
        "colab": {
          "base_uri": "https://localhost:8080/"
        },
        "id": "26V7ahTeSFqg",
        "outputId": "489587d8-1eda-4519-d82c-f0cbc5ad4987"
      },
      "outputs": [
        {
          "output_type": "stream",
          "name": "stdout",
          "text": [
            "Accuracy: 0.6127167630057804\n",
            "AUC-ROC: 0.587719298245614\n"
          ]
        }
      ],
      "source": [
        "import numpy as np\n",
        "import pandas as pd\n",
        "from fastFM import sgd\n",
        "from sklearn.model_selection import train_test_split\n",
        "import scipy\n",
        "from sklearn.metrics import accuracy_score, roc_auc_score\n",
        "\n",
        "\n",
        "data_url = \"https://archive.ics.uci.edu/ml/machine-learning-databases/statlog/australian/australian.dat\"\n",
        "data = pd.read_csv(data_url, sep=' ', header=None, na_values='?', skipinitialspace=True)\n",
        "data = data.dropna().values\n",
        "\n",
        "y = data[:, 14]\n",
        "X = data[:, :14]\n",
        "\n",
        "y[y == 0] = -1\n",
        "\n",
        "X = scipy.sparse.coo_matrix(X)\n",
        "X_train, X_test, y_train, y_test = train_test_split(X, y)\n",
        "\n",
        "fm = sgd.FMClassification(n_iter=100, init_stdev=1, l2_reg_w=0.1,\n",
        "                          l2_reg_V=0.1, rank=3, step_size=0.001)\n",
        "fm.fit(X_train, y_train)\n",
        "\n",
        "y_pred = fm.predict(X_test)\n",
        "y_pred_proba = fm.predict_proba(X_test)\n",
        "\n",
        "acc = accuracy_score(y_test, y_pred)\n",
        "auc_roc = roc_auc_score(y_test, y_pred_proba)\n",
        "\n",
        "print(\"Accuracy:\", acc)\n",
        "print(\"AUC-ROC:\", auc_roc)\n"
      ]
    },
    {
      "cell_type": "markdown",
      "metadata": {
        "id": "t8IKwsOFVH2T"
      },
      "source": [
        "# **Banknote Dataset**"
      ]
    },
    {
      "cell_type": "code",
      "execution_count": null,
      "metadata": {
        "colab": {
          "base_uri": "https://localhost:8080/"
        },
        "id": "cOKVrOIAVH-L",
        "outputId": "55cbfdb3-7b28-4706-df19-92d4abf6e149"
      },
      "outputs": [
        {
          "name": "stdout",
          "output_type": "stream",
          "text": [
            "Accuracy: 0.9067055393586005\n",
            "AUC-ROC: 0.9731481481481481\n"
          ]
        }
      ],
      "source": [
        "import numpy as np\n",
        "import pandas as pd\n",
        "from fastFM import sgd\n",
        "from sklearn.model_selection import train_test_split\n",
        "import scipy\n",
        "from sklearn.metrics import accuracy_score, roc_auc_score\n",
        "\n",
        "data_url = \"http://archive.ics.uci.edu/ml/machine-learning-databases/00267/data_banknote_authentication.txt\"\n",
        "df = pd.read_csv(data_url, header=None)\n",
        "\n",
        "X = df[df.columns[0:4]]\n",
        "y = df[df.columns[4]]\n",
        "y = y.to_numpy()\n",
        "y[y == 0] = -1\n",
        "\n",
        "X = scipy.sparse.coo_matrix(X)\n",
        "\n",
        "X_train, X_test, y_train, y_test = train_test_split(X, y)\n",
        "y_train = y_train.astype(np.float64)\n",
        "\n",
        "fm = sgd.FMClassification(n_iter=100, init_stdev=1, l2_reg_w=0.01,\n",
        "                          l2_reg_V=0.01, rank=2, step_size=0.01)\n",
        "fm.fit(X_train, y_train)\n",
        "\n",
        "y_pred = fm.predict(X_test)\n",
        "y_pred_proba = fm.predict_proba(X_test)\n",
        "\n",
        "acc = accuracy_score(y_test, y_pred)\n",
        "auc_roc = roc_auc_score(y_test, y_pred_proba)\n",
        "print(\"Accuracy:\", acc)\n",
        "print(\"AUC-ROC:\", auc_roc)\n"
      ]
    }
  ],
  "metadata": {
    "colab": {
      "collapsed_sections": [
        "EQkblN6qWQgM"
      ],
      "provenance": []
    },
    "kernelspec": {
      "display_name": "Python 3",
      "name": "python3"
    },
    "language_info": {
      "name": "python"
    }
  },
  "nbformat": 4,
  "nbformat_minor": 0
}